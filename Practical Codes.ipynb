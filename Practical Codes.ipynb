{
  "nbformat": 4,
  "nbformat_minor": 0,
  "metadata": {
    "colab": {
      "provenance": [],
      "authorship_tag": "ABX9TyPe4eTxDks560AoQ+BccV72",
      "include_colab_link": true
    },
    "kernelspec": {
      "name": "python3",
      "display_name": "Python 3"
    },
    "language_info": {
      "name": "python"
    }
  },
  "cells": [
    {
      "cell_type": "markdown",
      "metadata": {
        "id": "view-in-github",
        "colab_type": "text"
      },
      "source": [
        "<a href=\"https://colab.research.google.com/github/itsvishalkjha/School-Python/blob/main/Practical%20Codes.ipynb\" target=\"_parent\"><img src=\"https://colab.research.google.com/assets/colab-badge.svg\" alt=\"Open In Colab\"/></a>"
      ]
    },
    {
      "cell_type": "code",
      "execution_count": 1,
      "metadata": {
        "colab": {
          "base_uri": "https://localhost:8080/"
        },
        "id": "GkZSzl5LUK2Y",
        "outputId": "9748e399-c46e-4b3b-c22b-2615fb92a4a1"
      },
      "outputs": [
        {
          "output_type": "stream",
          "name": "stdout",
          "text": [
            "Enter User's marks in Math : 56\n",
            "Enter User's marks in SST : 78\n",
            "Enter User's marks in Science : 67\n",
            "Enter User's marks in AI : 67\n",
            "Enter User's marks in Sanskrit : 65\n",
            "User's average marks is   66.60000000000001\n"
          ]
        }
      ],
      "source": [
        "#Program 1 - Calculating the average percentage of \n",
        "#Taking the marks as input from the user \n",
        "\n",
        "\n",
        "\n",
        "math_marks = float(input(\"Enter User's marks in Math : \"))\n",
        "sst_marks = float(input(\"Enter User's marks in SST : \"))\n",
        "science_marks = float(input(\"Enter User's marks in Science : \"))\n",
        "Ai_marks = float(input(\"Enter User's marks in AI : \"))\n",
        "sanskrit_marks = float(input(\"Enter User's marks in Sanskrit : \"))\n",
        "\n",
        "#Calculating the total marks considering each subject's exam is of 100 marks \n",
        "\n",
        "tm = 100*5 #tm = total marks\n",
        "ts = math_marks + sst_marks + science_marks + Ai_marks + sanskrit_marks\n",
        "\n",
        "percentage = (ts/tm)*100\n",
        "\n",
        "print(\"User's average marks is  \", percentage)\n",
        "\n"
      ]
    },
    {
      "cell_type": "code",
      "source": [
        "# Take input from user\n",
        "ch = input(\"Enter any character : \")\n",
        "\n",
        "# Check for uppercase, lowercase\n",
        "if ch.isupper() :\n",
        "    print(\"\\n\" + ch, \"is an UPPERCASE alphabet.\")\n",
        "\n",
        "elif ch.islower() :\n",
        "    print(\"\\n\" + ch, \"is a  LOWERCASE alphabet.\")\n",
        "\n",
        "else :\n",
        "    print(\"\\n\" + ch, \"is not an alphabet, its a special character\")"
      ],
      "metadata": {
        "colab": {
          "base_uri": "https://localhost:8080/"
        },
        "id": "e9uJPQXMUaL-",
        "outputId": "824d2bf6-0023-4c7e-9a56-63cb933d89fa"
      },
      "execution_count": 7,
      "outputs": [
        {
          "output_type": "stream",
          "name": "stdout",
          "text": [
            "Enter any character :  j\n",
            "\n",
            " j is a  LOWERCASE alphabet.\n"
          ]
        }
      ]
    },
    {
      "cell_type": "code",
      "source": [
        "#Problem to find largest of 3 numbers\n",
        "a = int(input('Enter first number  : '))\n",
        "b = int(input('Enter second number : '))\n",
        "c = int(input('Enter third number  : '))\n",
        "\n",
        "largest = 0\n",
        "\n",
        "if a > b and a > c :\n",
        "    largest = a\n",
        "elif b > c :\n",
        "    largest = b\n",
        "else :\n",
        "    largest = c\n",
        "\n",
        "print(largest, \"is the largest of three numbers.\")\n"
      ],
      "metadata": {
        "colab": {
          "base_uri": "https://localhost:8080/"
        },
        "id": "C3c8wzGVUrtD",
        "outputId": "7584f21a-1379-439a-84ce-beb82be88f65"
      },
      "execution_count": 13,
      "outputs": [
        {
          "output_type": "stream",
          "name": "stdout",
          "text": [
            "Enter first number  :  10\n",
            "Enter second number :  12\n",
            "Enter third number  : 12\n",
            "12 is the largest of three numbers.\n"
          ]
        }
      ]
    },
    {
      "cell_type": "code",
      "source": [
        "#Input Data\n",
        "cno = int(input(\"Enter Consumer Number:\"))\n",
        "pc = int(input(\"Enter power consumed:\"))\n",
        "\n",
        "#Computing bill amount based on power consumed\n",
        "if pc > 0 and pc <= 100:\n",
        "    bill_amt = pc * 1\n",
        "elif pc > 100 and pc <= 300:\n",
        "    bill_amt = 100 + (pc - 100) * 1.25\n",
        "elif pc > 300 and pc < 500:\n",
        "    bill_amt = 350 + (pc - 300) * 1.50\n",
        "elif pc > 500:\n",
        "    bill_amt = 650 + (pc - 500) * 1.75\n",
        "else:\n",
        "    print(\"Invalid Power Consumed Units\")\n",
        "\n",
        "#Printing the bill in proper format\n",
        "print(\"~\" * 60)\n",
        "print(\"\\t\\tABC Power Company Ltd.\")\n",
        "print(\"~\" * 60)\n",
        "print(\"Consumer Number:\", cno)\n",
        "print(\"Consumed Units:\", pc)\n",
        "print(\"------------------------------\")\n",
        "print(\"Bill Amount:\", bill_amt)\n"
      ],
      "metadata": {
        "colab": {
          "base_uri": "https://localhost:8080/"
        },
        "id": "C9U2vcwjVdab",
        "outputId": "50e2dbd6-e9af-4d02-d0c2-21751a6c1adb"
      },
      "execution_count": 15,
      "outputs": [
        {
          "output_type": "stream",
          "name": "stdout",
          "text": [
            "Enter Cusumer Number:19\n",
            "Enter power consumed:21\n",
            "~~~~~~~~~~~~~~~~~~~~~~~~~~~~~~~~~~~~~~~~~~~~~~~~~~~~~~~~~~~~\n",
            "\t\tABC Power Company Ltd.\n",
            "~~~~~~~~~~~~~~~~~~~~~~~~~~~~~~~~~~~~~~~~~~~~~~~~~~~~~~~~~~~~\n",
            "Consumer Number: 19\n",
            "Consumed Units: 21\n",
            "------------------------------\n",
            "Bill Amount: 21\n"
          ]
        }
      ]
    },
    {
      "cell_type": "code",
      "source": [
        "#Program to print multiplication tables of\n",
        "#Take input to accept a nmuber for printing Multiplication table\n",
        "n=int(input(\"Enter number to print multiplication table:\"))\n",
        "#Take for loop for multiple\n",
        "for i in range(1,11):\n",
        "  print(n,\" x \", i, \" = \", n*i )"
      ],
      "metadata": {
        "colab": {
          "base_uri": "https://localhost:8080/"
        },
        "id": "1Cii2ZmXWtDm",
        "outputId": "c8633fa7-a99e-4df8-aa9e-55658b54f80e"
      },
      "execution_count": 16,
      "outputs": [
        {
          "output_type": "stream",
          "name": "stdout",
          "text": [
            "Enter number to print multiplication table: 5\n",
            "5  x  1  =  5\n",
            "5  x  2  =  10\n",
            "5  x  3  =  15\n",
            "5  x  4  =  20\n",
            "5  x  5  =  25\n",
            "5  x  6  =  30\n",
            "5  x  7  =  35\n",
            "5  x  8  =  40\n",
            "5  x  9  =  45\n",
            "5  x  10  =  50\n"
          ]
        }
      ]
    },
    {
      "cell_type": "code",
      "source": [
        "#program to tell whether the number is an armstrong number or not\n",
        "#Enter a number to check\n",
        "n=int(input(\"Enter number to check:\"))\n",
        "#Store the original number into temporary variable\n",
        "t=n\n",
        "s=0\n",
        "#Computing the sum of cube of each digit and iterating until n=0\n",
        "while n!=0:\n",
        "  r=n%10\n",
        "  s=s+(r**3)\n",
        "  n//=10\n",
        "#Checking & displaying whether armstrong or not\n",
        "if t==s:\n",
        "  print(s,\" is Armstrong number\")\n",
        "else:\n",
        "  print(s,\" is not an Artmstrong number\")"
      ],
      "metadata": {
        "colab": {
          "base_uri": "https://localhost:8080/"
        },
        "id": "H9uN4Lj-XPHW",
        "outputId": "304c970d-30bd-4ae5-c063-f51025e63bc7"
      },
      "execution_count": 17,
      "outputs": [
        {
          "output_type": "stream",
          "name": "stdout",
          "text": [
            "Enter number to check:10\n",
            "1  is not an Artmstrong number\n"
          ]
        }
      ]
    },
    {
      "cell_type": "code",
      "source": [
        "#To make a pyramid \n",
        "rows = int(input(\"Enter number of rows: \"))\n",
        "number = 1\n",
        "\n",
        "for i in range(1, rows+1):\n",
        "    for j in range(1, i+1):\n",
        "        print(number, end=\" \")\n",
        "        number += 1\n",
        "    print()"
      ],
      "metadata": {
        "colab": {
          "base_uri": "https://localhost:8080/"
        },
        "id": "ASroJ_jaXp1G",
        "outputId": "5f815c28-83f4-4a9a-c16a-c4725b007115"
      },
      "execution_count": 20,
      "outputs": [
        {
          "output_type": "stream",
          "name": "stdout",
          "text": [
            "Enter number of rows:  5\n",
            "1 \n",
            "2 3 \n",
            "4 5 6 \n",
            "7 8 9 10 \n",
            "11 12 13 14 15 \n"
          ]
        }
      ]
    },
    {
      "cell_type": "code",
      "source": [
        "#Maximum marks by a student\n",
        "#Take input for n lines \n",
        "n = int(input(\"Enter no. of subjects:\")) \n",
        "\n",
        "#Creating empty list\n",
        "l = []\n",
        "\n",
        "#Accepting marks and appending marks into the list \n",
        "for i in range(n):\n",
        "    m = int(input(\"Enter marks:\"))\n",
        "    l.append(m)\n",
        "\n",
        "print(\"Maximum marks scored:\", max(l))"
      ],
      "metadata": {
        "colab": {
          "base_uri": "https://localhost:8080/"
        },
        "id": "xwEzv0XdX6HL",
        "outputId": "77df8874-560b-48e6-9bcc-46f3fd3cda2e"
      },
      "execution_count": 21,
      "outputs": [
        {
          "output_type": "stream",
          "name": "stdout",
          "text": [
            "Enter no. of subjects: 5\n",
            "Enter marks: 5\n",
            "Enter marks:5\n",
            "Enter marks:5\n",
            "Enter marks:6\n",
            "Enter marks:7\n",
            "Maximum marks scored: 7\n"
          ]
        }
      ]
    },
    {
      "cell_type": "code",
      "source": [
        "#2D Numpy Array\n",
        "import numpy as np\n",
        "arr=np.arange(5,45,5)\n",
        "arr=arr.reshape(2,4) \n",
        "print(arr)\n",
        "\n"
      ],
      "metadata": {
        "colab": {
          "base_uri": "https://localhost:8080/"
        },
        "id": "Zb8lbp8AZIfa",
        "outputId": "6b163ae6-bafa-4acf-dc61-a6296c5fd12b"
      },
      "execution_count": 22,
      "outputs": [
        {
          "output_type": "stream",
          "name": "stdout",
          "text": [
            "[[ 5 10 15 20]\n",
            " [25 30 35 40]]\n"
          ]
        }
      ]
    },
    {
      "cell_type": "code",
      "source": [
        "import numpy as np \n",
        "l = []\n",
        "n=int(input(\"Enter the no. of elements:\")) \n",
        "for i in range(n):\n",
        "  val=int(input(\"Enter value \"+str(i+1)+\":\"))\n",
        "  l.append(val)\n",
        "arr=np.array(l)\n",
        "print(\"Array:\",arr)\n",
        "\n",
        "\n"
      ],
      "metadata": {
        "colab": {
          "base_uri": "https://localhost:8080/"
        },
        "id": "hj3VajJnZpmH",
        "outputId": "f6d5bbbb-050e-4875-8fe4-01ad88d567ea"
      },
      "execution_count": 23,
      "outputs": [
        {
          "output_type": "stream",
          "name": "stdout",
          "text": [
            "Enter the no. of elements: 5\n",
            "Enter value 1: 4\n",
            "Enter value 2:5\n",
            "Enter value 3:6\n",
            "Enter value 4:7\n",
            "Enter value 5:4\n",
            "Array: [4 5 6 7 4]\n"
          ]
        }
      ]
    },
    {
      "cell_type": "code",
      "source": [
        "#Matix of 3x3\n",
        "import numpy as np\n",
        "arr =np.arange(11,28,2)\n",
        "arr = arr.reshape(3,3)\n",
        "print(arr)"
      ],
      "metadata": {
        "colab": {
          "base_uri": "https://localhost:8080/"
        },
        "id": "TmRuUzqQZ6XZ",
        "outputId": "2f67b4a9-33dd-47b6-b545-4916645761a6"
      },
      "execution_count": 24,
      "outputs": [
        {
          "output_type": "stream",
          "name": "stdout",
          "text": [
            "[[11 13 15]\n",
            " [17 19 21]\n",
            " [23 25 27]]\n"
          ]
        }
      ]
    },
    {
      "cell_type": "code",
      "source": [
        "#Making a line chart of the given data\n",
        "\n",
        "\n",
        "import matplotlib.pyplot as mlt\n",
        "\n",
        "mon =['March','April','May','June','July','August']\n",
        "jeans= [1500,3500,6500,6700,6000,6800]\n",
        "ts = [4400,4500,5500,6000,5600,6300]\n",
        "sh = [6500,5000,5800,6300,6200,4500]\n",
        "\n",
        "mlt.plot(mon,jeans,label='Mask',color='g',linestyle='dashed', linewidth=4,\\\n",
        " \tmarker='o', markerfacecolor='k', markeredgecolor='r') \n",
        "mlt.plot(mon,ts,label='Mask',color='b',linestyle='dashed', linewidth=4,\\\n",
        " \tmarker='3', markerfacecolor='k', markeredgecolor='g') \n",
        "mlt.plot(mon,sh,label='Mask',color='r',linestyle='dashed', linewidth=4,\\\n",
        " \tmarker='v', markerfacecolor='k', markeredgecolor='b') \n",
        "\n",
        "mlt.title(\"Vishal's Garment Store\") \n",
        "mlt.xlabel(\"Months\") \n",
        "mlt.ylabel(\"Garments\")\n",
        "mlt.legend()\n",
        "mlt.show()\n"
      ],
      "metadata": {
        "colab": {
          "base_uri": "https://localhost:8080/",
          "height": 295
        },
        "id": "cBfp5Vh8aKBo",
        "outputId": "d5367656-dabb-415d-f1d7-db57553658b5"
      },
      "execution_count": 26,
      "outputs": [
        {
          "output_type": "display_data",
          "data": {
            "text/plain": [
              "<Figure size 432x288 with 1 Axes>"
            ],
            "image/png": "[encoded data removed]"
          },
          "metadata": {
            "needs_background": "light"
          }
        }
      ]
    },
    {
      "cell_type": "code",
      "source": [
        "#Making line graph of sales stats\n",
        "#Import pyplot\n",
        "import matplotlib.pyplot as mlt\n",
        "#Prepraing data\n",
        "mon =['January','February','March','April','May','June'] \n",
        "sales = [2500,2100,1700,3500,3000,3800]\n",
        "#Crating line chart\n",
        "mlt.plot(mon,sales,label='Sales',color='r',linestyle='dashed', linewidth=4,\\\n",
        " \tmarker='o', markerfacecolor='k', markeredgecolor='b')\n",
        "#Customizing the chart\n",
        "mlt.title(\"Sales Report\")\n",
        "mlt.xlabel(\"Months\") \n",
        "mlt.ylabel(\"Sales\") \n",
        "mlt.legend()\n",
        "mlt.show()\n",
        "\n"
      ],
      "metadata": {
        "colab": {
          "base_uri": "https://localhost:8080/",
          "height": 295
        },
        "id": "9qFA4WzOasqq",
        "outputId": "fb181bcd-4dc6-4a7b-d817-2c0bde5179a9"
      },
      "execution_count": 27,
      "outputs": [
        {
          "output_type": "display_data",
          "data": {
            "text/plain": [
              "<Figure size 432x288 with 1 Axes>"
            ],
            "image/png": "[encoded data removed]"
          },
          "metadata": {
            "needs_background": "light"
          }
        }
      ]
    },
    {
      "cell_type": "code",
      "source": [
        "#Finding mean median mode\n",
        "\n",
        "import statistics\n",
        "\n",
        "l=[5,6,1,3,4,5,6,2,7,8,6,5,4,6,5,1,2,3,4]\n",
        "\n",
        "print(\"Mean Value:%.2f\"%statistics.mean(l))\n",
        "print(\"Mode Value:%.2f\"%statistics.mode(l))\n",
        "print(\"Median Value:%.2f\"%statistics.median(l))"
      ],
      "metadata": {
        "colab": {
          "base_uri": "https://localhost:8080/"
        },
        "id": "7D_Ewm1HbLc2",
        "outputId": "f0787d6b-d24f-4c18-98f7-5a432e981931"
      },
      "execution_count": 28,
      "outputs": [
        {
          "output_type": "stream",
          "name": "stdout",
          "text": [
            "Mean Value:4.37\n",
            "Mode Value:5.00\n",
            "Median Value:5.00\n"
          ]
        }
      ]
    },
    {
      "cell_type": "code",
      "source": [],
      "metadata": {
        "id": "qTtWwErWbXle"
      },
      "execution_count": null,
      "outputs": []
    }
  ]
}